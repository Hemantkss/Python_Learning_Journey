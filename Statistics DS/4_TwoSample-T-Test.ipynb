{
 "cells": [
  {
   "cell_type": "code",
   "execution_count": 1,
   "id": "66e1cc57-725d-4e09-bc49-173f63087357",
   "metadata": {},
   "outputs": [],
   "source": [
    "import numpy as np \n",
    "from scipy import stats"
   ]
  },
  {
   "cell_type": "code",
   "execution_count": 2,
   "id": "f797a20b-2d01-49ca-81b7-98e5ec14140a",
   "metadata": {},
   "outputs": [],
   "source": [
    "group_A = [85, 88, 90, 92, 87, 85, 89, 91, 86, 88] \n",
    "group_B = [82, 84, 80, 83, 81, 79, 78, 85, 84, 83]  "
   ]
  },
  {
   "cell_type": "code",
   "execution_count": 3,
   "id": "8aeea611-4f38-40e5-acc3-76ef00b00a72",
   "metadata": {},
   "outputs": [],
   "source": [
    "t_stats, p_value = stats.ttest_ind(group_A, group_B, equal_var=False)"
   ]
  },
  {
   "cell_type": "code",
   "execution_count": 4,
   "id": "dd2e6ede-f1da-4355-b195-9fa7ac0d0349",
   "metadata": {},
   "outputs": [
    {
     "data": {
      "text/plain": [
       "5.829604009507161"
      ]
     },
     "execution_count": 4,
     "metadata": {},
     "output_type": "execute_result"
    }
   ],
   "source": [
    "t_stats"
   ]
  },
  {
   "cell_type": "code",
   "execution_count": 5,
   "id": "5ec45743-fb6e-48cf-8c4c-8236f4aad510",
   "metadata": {},
   "outputs": [],
   "source": [
    "alpha = 0.05"
   ]
  },
  {
   "cell_type": "code",
   "execution_count": null,
   "id": "9ac5f76e-7eea-46f4-bc84-a766d4603d39",
   "metadata": {},
   "outputs": [],
   "source": []
  },
  {
   "cell_type": "code",
   "execution_count": 6,
   "id": "71b80865-8e71-452d-b49b-e3faaa9a9a6d",
   "metadata": {},
   "outputs": [
    {
     "name": "stdout",
     "output_type": "stream",
     "text": [
      "I will reject the null hypothesis \n"
     ]
    }
   ],
   "source": [
    "if p_value < alpha:\n",
    "    print(\"I will reject the null hypothesis \")\n",
    "else:\n",
    "    print(\"i will accept the null hypothesis\" )"
   ]
  },
  {
   "cell_type": "code",
   "execution_count": null,
   "id": "eb368983-309c-4d3b-b39c-57f69def355f",
   "metadata": {},
   "outputs": [],
   "source": []
  },
  {
   "cell_type": "code",
   "execution_count": null,
   "id": "2fb5bcb5-7527-426d-9c20-2eed724b81a8",
   "metadata": {},
   "outputs": [],
   "source": []
  }
 ],
 "metadata": {
  "kernelspec": {
   "display_name": "Python [conda env:base] *",
   "language": "python",
   "name": "conda-base-py"
  },
  "language_info": {
   "codemirror_mode": {
    "name": "ipython",
    "version": 3
   },
   "file_extension": ".py",
   "mimetype": "text/x-python",
   "name": "python",
   "nbconvert_exporter": "python",
   "pygments_lexer": "ipython3",
   "version": "3.12.7"
  }
 },
 "nbformat": 4,
 "nbformat_minor": 5
}
