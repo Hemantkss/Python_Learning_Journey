{
 "cells": [
  {
   "cell_type": "code",
   "execution_count": 1,
   "id": "8e283523-f040-44b9-9ca4-967d291b78e8",
   "metadata": {},
   "outputs": [],
   "source": [
    "import numpy as np \n",
    "import pandas as pd "
   ]
  },
  {
   "cell_type": "code",
   "execution_count": 2,
   "id": "6702fa65-37ba-45d7-8e75-2003d2013b91",
   "metadata": {},
   "outputs": [],
   "source": [
    "df = pd.read_csv(\"Countries.csv\")"
   ]
  },
  {
   "cell_type": "code",
   "execution_count": null,
   "id": "cc740249-32c8-42bc-9578-c1567c018cb1",
   "metadata": {},
   "outputs": [],
   "source": []
  },
  {
   "cell_type": "code",
   "execution_count": null,
   "id": "18ae9bf2-d9c9-410d-baa3-4edec3592b90",
   "metadata": {},
   "outputs": [],
   "source": []
  },
  {
   "cell_type": "code",
   "execution_count": 3,
   "id": "67f9c42d-2949-4aeb-98e3-edc63f5a8485",
   "metadata": {},
   "outputs": [
    {
     "data": {
      "text/plain": [
       "(194, 64)"
      ]
     },
     "execution_count": 3,
     "metadata": {},
     "output_type": "execute_result"
    }
   ],
   "source": [
    "df.shape"
   ]
  },
  {
   "cell_type": "code",
   "execution_count": 4,
   "id": "57789311-c119-498f-a35f-62a74daed9d1",
   "metadata": {},
   "outputs": [
    {
     "name": "stdout",
     "output_type": "stream",
     "text": [
      "<class 'pandas.core.frame.DataFrame'>\n",
      "RangeIndex: 194 entries, 0 to 193\n",
      "Data columns (total 64 columns):\n",
      " #   Column                                   Non-Null Count  Dtype  \n",
      "---  ------                                   --------------  -----  \n",
      " 0   country                                  194 non-null    object \n",
      " 1   country_long                             194 non-null    object \n",
      " 2   currency                                 194 non-null    object \n",
      " 3   capital_city                             194 non-null    object \n",
      " 4   region                                   194 non-null    object \n",
      " 5   continent                                194 non-null    object \n",
      " 6   demonym                                  194 non-null    object \n",
      " 7   latitude                                 194 non-null    float64\n",
      " 8   longitude                                194 non-null    float64\n",
      " 9   agricultural_land                        193 non-null    float64\n",
      " 10  forest_area                              194 non-null    float64\n",
      " 11  land_area                                194 non-null    float64\n",
      " 12  rural_land                               194 non-null    float64\n",
      " 13  urban_land                               194 non-null    float64\n",
      " 14  central_government_debt_pct_gdp          120 non-null    float64\n",
      " 15  expense_pct_gdp                          156 non-null    float64\n",
      " 16  gdp                                      193 non-null    float64\n",
      " 17  inflation                                184 non-null    float64\n",
      " 18  self_employed_pct                        179 non-null    float64\n",
      " 19  tax_revenue_pct_gdp                      159 non-null    float64\n",
      " 20  unemployment_pct                         179 non-null    float64\n",
      " 21  vulnerable_employment_pct                179 non-null    float64\n",
      " 22  electricity_access_pct                   194 non-null    float64\n",
      " 23  alternative_nuclear_energy_pct           138 non-null    float64\n",
      " 24  electricty_production_coal_pct           138 non-null    float64\n",
      " 25  electricty_production_hydroelectric_pct  138 non-null    float64\n",
      " 26  electricty_production_gas_pct            138 non-null    float64\n",
      " 27  electricty_production_nuclear_pct        138 non-null    float64\n",
      " 28  electricty_production_oil_pct            138 non-null    float64\n",
      " 29  electricty_production_renewable_pct      138 non-null    float64\n",
      " 30  energy_imports_pct                       138 non-null    float64\n",
      " 31  fossil_energy_consumption_pct            168 non-null    float64\n",
      " 32  renewable_energy_consumption_pct         192 non-null    float64\n",
      " 33  co2_emissions                            191 non-null    float64\n",
      " 34  methane_emissions                        191 non-null    float64\n",
      " 35  nitrous_oxide_emissions                  191 non-null    float64\n",
      " 36  greenhouse_other_emissions               184 non-null    float64\n",
      " 37  urban_population_under_5m                194 non-null    float64\n",
      " 38  health_expenditure_pct_gdp               190 non-null    float64\n",
      " 39  health_expenditure_capita                190 non-null    float64\n",
      " 40  hospital_beds                            192 non-null    float64\n",
      " 41  hiv_incidence                            133 non-null    float64\n",
      " 42  suicide_rate                             183 non-null    float64\n",
      " 43  armed_forces                             174 non-null    float64\n",
      " 44  internally_displaced_persons             73 non-null     float64\n",
      " 45  military_expenditure_pct_gdp             163 non-null    float64\n",
      " 46  birth_rate                               194 non-null    float64\n",
      " 47  death_rate                               194 non-null    float64\n",
      " 48  fertility_rate                           193 non-null    float64\n",
      " 49  internet_pct                             194 non-null    float64\n",
      " 50  life_expectancy                          191 non-null    float64\n",
      " 51  net_migration                            194 non-null    int64  \n",
      " 52  population_female                        194 non-null    int64  \n",
      " 53  population_male                          194 non-null    int64  \n",
      " 54  population                               194 non-null    int64  \n",
      " 55  women_parliament_seats_pct               193 non-null    float64\n",
      " 56  rural_population                         194 non-null    int64  \n",
      " 57  urban_population                         194 non-null    int64  \n",
      " 58  press                                    194 non-null    float64\n",
      " 59  democracy_score                          194 non-null    float64\n",
      " 60  democracy_type                           194 non-null    object \n",
      " 61  median_age                               194 non-null    float64\n",
      " 62  political_leader                         187 non-null    object \n",
      " 63  title                                    187 non-null    object \n",
      "dtypes: float64(48), int64(6), object(10)\n",
      "memory usage: 97.1+ KB\n"
     ]
    }
   ],
   "source": [
    "df.info()"
   ]
  },
  {
   "cell_type": "code",
   "execution_count": 5,
   "id": "0c24dc53-d7f7-4f4e-9bc3-fc5ce79d7db6",
   "metadata": {},
   "outputs": [
    {
     "data": {
      "text/html": [
       "<div>\n",
       "<style scoped>\n",
       "    .dataframe tbody tr th:only-of-type {\n",
       "        vertical-align: middle;\n",
       "    }\n",
       "\n",
       "    .dataframe tbody tr th {\n",
       "        vertical-align: top;\n",
       "    }\n",
       "\n",
       "    .dataframe thead th {\n",
       "        text-align: right;\n",
       "    }\n",
       "</style>\n",
       "<table border=\"1\" class=\"dataframe\">\n",
       "  <thead>\n",
       "    <tr style=\"text-align: right;\">\n",
       "      <th></th>\n",
       "      <th>latitude</th>\n",
       "      <th>longitude</th>\n",
       "      <th>agricultural_land</th>\n",
       "      <th>forest_area</th>\n",
       "      <th>land_area</th>\n",
       "      <th>rural_land</th>\n",
       "      <th>urban_land</th>\n",
       "      <th>central_government_debt_pct_gdp</th>\n",
       "      <th>expense_pct_gdp</th>\n",
       "      <th>gdp</th>\n",
       "      <th>...</th>\n",
       "      <th>net_migration</th>\n",
       "      <th>population_female</th>\n",
       "      <th>population_male</th>\n",
       "      <th>population</th>\n",
       "      <th>women_parliament_seats_pct</th>\n",
       "      <th>rural_population</th>\n",
       "      <th>urban_population</th>\n",
       "      <th>press</th>\n",
       "      <th>democracy_score</th>\n",
       "      <th>median_age</th>\n",
       "    </tr>\n",
       "  </thead>\n",
       "  <tbody>\n",
       "    <tr>\n",
       "      <th>count</th>\n",
       "      <td>194.000000</td>\n",
       "      <td>194.000000</td>\n",
       "      <td>1.930000e+02</td>\n",
       "      <td>1.940000e+02</td>\n",
       "      <td>1.940000e+02</td>\n",
       "      <td>1.940000e+02</td>\n",
       "      <td>194.000000</td>\n",
       "      <td>120.000000</td>\n",
       "      <td>156.000000</td>\n",
       "      <td>1.930000e+02</td>\n",
       "      <td>...</td>\n",
       "      <td>194.000000</td>\n",
       "      <td>1.940000e+02</td>\n",
       "      <td>1.940000e+02</td>\n",
       "      <td>1.940000e+02</td>\n",
       "      <td>193.000000</td>\n",
       "      <td>1.940000e+02</td>\n",
       "      <td>1.940000e+02</td>\n",
       "      <td>194.000000</td>\n",
       "      <td>194.000000</td>\n",
       "      <td>194.000000</td>\n",
       "    </tr>\n",
       "    <tr>\n",
       "      <th>mean</th>\n",
       "      <td>18.975601</td>\n",
       "      <td>22.027491</td>\n",
       "      <td>2.454551e+05</td>\n",
       "      <td>2.086784e+05</td>\n",
       "      <td>6.675087e+05</td>\n",
       "      <td>6.563711e+05</td>\n",
       "      <td>9777.116531</td>\n",
       "      <td>66.759366</td>\n",
       "      <td>30.051403</td>\n",
       "      <td>5.144851e+11</td>\n",
       "      <td>...</td>\n",
       "      <td>-51.407216</td>\n",
       "      <td>2.028316e+07</td>\n",
       "      <td>2.050572e+07</td>\n",
       "      <td>4.078888e+07</td>\n",
       "      <td>25.022994</td>\n",
       "      <td>1.763322e+07</td>\n",
       "      <td>2.315566e+07</td>\n",
       "      <td>2.539330</td>\n",
       "      <td>4.644536</td>\n",
       "      <td>25.661856</td>\n",
       "    </tr>\n",
       "    <tr>\n",
       "      <th>std</th>\n",
       "      <td>23.876225</td>\n",
       "      <td>66.396389</td>\n",
       "      <td>6.356268e+05</td>\n",
       "      <td>7.824926e+05</td>\n",
       "      <td>1.837107e+06</td>\n",
       "      <td>1.811169e+06</td>\n",
       "      <td>42301.458421</td>\n",
       "      <td>71.806247</td>\n",
       "      <td>26.740880</td>\n",
       "      <td>2.307148e+12</td>\n",
       "      <td>...</td>\n",
       "      <td>94525.968598</td>\n",
       "      <td>7.258941e+07</td>\n",
       "      <td>7.607158e+07</td>\n",
       "      <td>1.486470e+08</td>\n",
       "      <td>12.671044</td>\n",
       "      <td>7.664187e+07</td>\n",
       "      <td>7.940393e+07</td>\n",
       "      <td>1.800128</td>\n",
       "      <td>2.818297</td>\n",
       "      <td>9.415569</td>\n",
       "    </tr>\n",
       "    <tr>\n",
       "      <th>min</th>\n",
       "      <td>-41.000000</td>\n",
       "      <td>-175.000000</td>\n",
       "      <td>4.000000e+00</td>\n",
       "      <td>0.000000e+00</td>\n",
       "      <td>2.027000e+00</td>\n",
       "      <td>3.495450e-02</td>\n",
       "      <td>0.000000</td>\n",
       "      <td>0.000000</td>\n",
       "      <td>0.000267</td>\n",
       "      <td>6.034940e+07</td>\n",
       "      <td>...</td>\n",
       "      <td>-525116.000000</td>\n",
       "      <td>5.513000e+03</td>\n",
       "      <td>5.799000e+03</td>\n",
       "      <td>1.131200e+04</td>\n",
       "      <td>0.000000</td>\n",
       "      <td>0.000000e+00</td>\n",
       "      <td>5.717000e+03</td>\n",
       "      <td>0.000000</td>\n",
       "      <td>0.000000</td>\n",
       "      <td>10.500000</td>\n",
       "    </tr>\n",
       "    <tr>\n",
       "      <th>25%</th>\n",
       "      <td>4.000000</td>\n",
       "      <td>-5.000000</td>\n",
       "      <td>6.464000e+03</td>\n",
       "      <td>3.331775e+03</td>\n",
       "      <td>2.355250e+04</td>\n",
       "      <td>2.186562e+04</td>\n",
       "      <td>359.618250</td>\n",
       "      <td>31.951300</td>\n",
       "      <td>18.371875</td>\n",
       "      <td>1.181390e+10</td>\n",
       "      <td>...</td>\n",
       "      <td>-12242.250000</td>\n",
       "      <td>1.036218e+06</td>\n",
       "      <td>1.044902e+06</td>\n",
       "      <td>2.106358e+06</td>\n",
       "      <td>15.384600</td>\n",
       "      <td>5.896640e+05</td>\n",
       "      <td>1.222244e+06</td>\n",
       "      <td>1.525000</td>\n",
       "      <td>2.722500</td>\n",
       "      <td>16.950000</td>\n",
       "    </tr>\n",
       "    <tr>\n",
       "      <th>50%</th>\n",
       "      <td>16.583333</td>\n",
       "      <td>21.500000</td>\n",
       "      <td>3.872780e+04</td>\n",
       "      <td>2.528925e+04</td>\n",
       "      <td>1.203750e+05</td>\n",
       "      <td>1.159945e+05</td>\n",
       "      <td>1645.170000</td>\n",
       "      <td>55.426850</td>\n",
       "      <td>27.337750</td>\n",
       "      <td>4.115390e+10</td>\n",
       "      <td>...</td>\n",
       "      <td>-970.000000</td>\n",
       "      <td>4.502713e+06</td>\n",
       "      <td>4.450049e+06</td>\n",
       "      <td>9.125614e+06</td>\n",
       "      <td>25.252500</td>\n",
       "      <td>2.512382e+06</td>\n",
       "      <td>4.508837e+06</td>\n",
       "      <td>2.400000</td>\n",
       "      <td>5.050000</td>\n",
       "      <td>24.950000</td>\n",
       "    </tr>\n",
       "    <tr>\n",
       "      <th>75%</th>\n",
       "      <td>40.000000</td>\n",
       "      <td>50.162500</td>\n",
       "      <td>2.150000e+05</td>\n",
       "      <td>1.236735e+05</td>\n",
       "      <td>5.237000e+05</td>\n",
       "      <td>4.911505e+05</td>\n",
       "      <td>4054.022500</td>\n",
       "      <td>79.539300</td>\n",
       "      <td>35.083500</td>\n",
       "      <td>2.519450e+11</td>\n",
       "      <td>...</td>\n",
       "      <td>2904.250000</td>\n",
       "      <td>1.526606e+07</td>\n",
       "      <td>1.478872e+07</td>\n",
       "      <td>3.031361e+07</td>\n",
       "      <td>33.636400</td>\n",
       "      <td>1.133354e+07</td>\n",
       "      <td>1.621355e+07</td>\n",
       "      <td>2.925000</td>\n",
       "      <td>6.967500</td>\n",
       "      <td>34.050000</td>\n",
       "    </tr>\n",
       "    <tr>\n",
       "      <th>max</th>\n",
       "      <td>65.000000</td>\n",
       "      <td>178.000000</td>\n",
       "      <td>5.285080e+06</td>\n",
       "      <td>8.153120e+06</td>\n",
       "      <td>1.637690e+07</td>\n",
       "      <td>1.622420e+07</td>\n",
       "      <td>522345.000000</td>\n",
       "      <td>687.994000</td>\n",
       "      <td>310.443000</td>\n",
       "      <td>2.546270e+13</td>\n",
       "      <td>...</td>\n",
       "      <td>561580.000000</td>\n",
       "      <td>6.915285e+08</td>\n",
       "      <td>7.311805e+08</td>\n",
       "      <td>1.417173e+09</td>\n",
       "      <td>61.250000</td>\n",
       "      <td>9.088048e+08</td>\n",
       "      <td>8.975784e+08</td>\n",
       "      <td>10.000000</td>\n",
       "      <td>9.870000</td>\n",
       "      <td>50.500000</td>\n",
       "    </tr>\n",
       "  </tbody>\n",
       "</table>\n",
       "<p>8 rows × 54 columns</p>\n",
       "</div>"
      ],
      "text/plain": [
       "         latitude   longitude  agricultural_land   forest_area     land_area  \\\n",
       "count  194.000000  194.000000       1.930000e+02  1.940000e+02  1.940000e+02   \n",
       "mean    18.975601   22.027491       2.454551e+05  2.086784e+05  6.675087e+05   \n",
       "std     23.876225   66.396389       6.356268e+05  7.824926e+05  1.837107e+06   \n",
       "min    -41.000000 -175.000000       4.000000e+00  0.000000e+00  2.027000e+00   \n",
       "25%      4.000000   -5.000000       6.464000e+03  3.331775e+03  2.355250e+04   \n",
       "50%     16.583333   21.500000       3.872780e+04  2.528925e+04  1.203750e+05   \n",
       "75%     40.000000   50.162500       2.150000e+05  1.236735e+05  5.237000e+05   \n",
       "max     65.000000  178.000000       5.285080e+06  8.153120e+06  1.637690e+07   \n",
       "\n",
       "         rural_land     urban_land  central_government_debt_pct_gdp  \\\n",
       "count  1.940000e+02     194.000000                       120.000000   \n",
       "mean   6.563711e+05    9777.116531                        66.759366   \n",
       "std    1.811169e+06   42301.458421                        71.806247   \n",
       "min    3.495450e-02       0.000000                         0.000000   \n",
       "25%    2.186562e+04     359.618250                        31.951300   \n",
       "50%    1.159945e+05    1645.170000                        55.426850   \n",
       "75%    4.911505e+05    4054.022500                        79.539300   \n",
       "max    1.622420e+07  522345.000000                       687.994000   \n",
       "\n",
       "       expense_pct_gdp           gdp  ...  net_migration  population_female  \\\n",
       "count       156.000000  1.930000e+02  ...     194.000000       1.940000e+02   \n",
       "mean         30.051403  5.144851e+11  ...     -51.407216       2.028316e+07   \n",
       "std          26.740880  2.307148e+12  ...   94525.968598       7.258941e+07   \n",
       "min           0.000267  6.034940e+07  ... -525116.000000       5.513000e+03   \n",
       "25%          18.371875  1.181390e+10  ...  -12242.250000       1.036218e+06   \n",
       "50%          27.337750  4.115390e+10  ...    -970.000000       4.502713e+06   \n",
       "75%          35.083500  2.519450e+11  ...    2904.250000       1.526606e+07   \n",
       "max         310.443000  2.546270e+13  ...  561580.000000       6.915285e+08   \n",
       "\n",
       "       population_male    population  women_parliament_seats_pct  \\\n",
       "count     1.940000e+02  1.940000e+02                  193.000000   \n",
       "mean      2.050572e+07  4.078888e+07                   25.022994   \n",
       "std       7.607158e+07  1.486470e+08                   12.671044   \n",
       "min       5.799000e+03  1.131200e+04                    0.000000   \n",
       "25%       1.044902e+06  2.106358e+06                   15.384600   \n",
       "50%       4.450049e+06  9.125614e+06                   25.252500   \n",
       "75%       1.478872e+07  3.031361e+07                   33.636400   \n",
       "max       7.311805e+08  1.417173e+09                   61.250000   \n",
       "\n",
       "       rural_population  urban_population       press  democracy_score  \\\n",
       "count      1.940000e+02      1.940000e+02  194.000000       194.000000   \n",
       "mean       1.763322e+07      2.315566e+07    2.539330         4.644536   \n",
       "std        7.664187e+07      7.940393e+07    1.800128         2.818297   \n",
       "min        0.000000e+00      5.717000e+03    0.000000         0.000000   \n",
       "25%        5.896640e+05      1.222244e+06    1.525000         2.722500   \n",
       "50%        2.512382e+06      4.508837e+06    2.400000         5.050000   \n",
       "75%        1.133354e+07      1.621355e+07    2.925000         6.967500   \n",
       "max        9.088048e+08      8.975784e+08   10.000000         9.870000   \n",
       "\n",
       "       median_age  \n",
       "count  194.000000  \n",
       "mean    25.661856  \n",
       "std      9.415569  \n",
       "min     10.500000  \n",
       "25%     16.950000  \n",
       "50%     24.950000  \n",
       "75%     34.050000  \n",
       "max     50.500000  \n",
       "\n",
       "[8 rows x 54 columns]"
      ]
     },
     "execution_count": 5,
     "metadata": {},
     "output_type": "execute_result"
    }
   ],
   "source": [
    "df.describe()"
   ]
  },
  {
   "cell_type": "code",
   "execution_count": null,
   "id": "a557a88e-100e-4f94-8863-a920f7545311",
   "metadata": {},
   "outputs": [],
   "source": []
  },
  {
   "cell_type": "code",
   "execution_count": null,
   "id": "376cbcc1-9f3d-45eb-8880-dc1caa768f62",
   "metadata": {},
   "outputs": [],
   "source": []
  },
  {
   "cell_type": "code",
   "execution_count": 6,
   "id": "b8580793-0802-418c-b004-bf5549acc2ab",
   "metadata": {},
   "outputs": [],
   "source": [
    "#which country has the highest population"
   ]
  },
  {
   "cell_type": "code",
   "execution_count": 7,
   "id": "2550d1a8-3add-46e1-a90d-7c33ee25156b",
   "metadata": {},
   "outputs": [
    {
     "data": {
      "text/plain": [
       "75    India\n",
       "Name: country, dtype: object"
      ]
     },
     "execution_count": 7,
     "metadata": {},
     "output_type": "execute_result"
    }
   ],
   "source": [
    "df[df[\"population\"] == df[\"population\"].max()][\"country\"]"
   ]
  },
  {
   "cell_type": "code",
   "execution_count": null,
   "id": "b6b515c1-dfb6-45c0-952d-097febc2dad6",
   "metadata": {},
   "outputs": [],
   "source": []
  },
  {
   "cell_type": "code",
   "execution_count": 8,
   "id": "2acad44a-9fb9-4946-8ddf-e05548855149",
   "metadata": {},
   "outputs": [],
   "source": [
    "#what is the capital of the country with highest population"
   ]
  },
  {
   "cell_type": "code",
   "execution_count": 9,
   "id": "c3bb4796-bd7c-46f4-aefe-a298a6998005",
   "metadata": {},
   "outputs": [
    {
     "data": {
      "text/plain": [
       "75    New Delhi\n",
       "Name: capital_city, dtype: object"
      ]
     },
     "execution_count": 9,
     "metadata": {},
     "output_type": "execute_result"
    }
   ],
   "source": [
    "df[df[\"population\"] == df[\"population\"].max()][\"capital_city\"]"
   ]
  },
  {
   "cell_type": "code",
   "execution_count": null,
   "id": "f805b08d-0350-427f-bf4d-b608c8b7524d",
   "metadata": {},
   "outputs": [],
   "source": []
  },
  {
   "cell_type": "code",
   "execution_count": 10,
   "id": "eeae8c6d-8a3f-4790-b169-cab6812422cc",
   "metadata": {},
   "outputs": [],
   "source": [
    "#which country has the least population"
   ]
  },
  {
   "cell_type": "code",
   "execution_count": 11,
   "id": "5188a402-5010-432f-b54d-31599d6eb62f",
   "metadata": {},
   "outputs": [
    {
     "data": {
      "text/plain": [
       "179    Tuvalu\n",
       "Name: country, dtype: object"
      ]
     },
     "execution_count": 11,
     "metadata": {},
     "output_type": "execute_result"
    }
   ],
   "source": [
    "df[df[\"population\"] == df[\"population\"].min()][\"country\"]"
   ]
  },
  {
   "cell_type": "code",
   "execution_count": null,
   "id": "3e6e871c-c035-44c8-8247-9f1658c7b09a",
   "metadata": {},
   "outputs": [],
   "source": []
  },
  {
   "cell_type": "code",
   "execution_count": 12,
   "id": "5c9b7776-2561-4344-a506-7cde5c97c59a",
   "metadata": {},
   "outputs": [],
   "source": [
    "#what is the capital of the country with least population"
   ]
  },
  {
   "cell_type": "code",
   "execution_count": 13,
   "id": "ff632024-3709-4f77-8dfd-1c28247abbcf",
   "metadata": {},
   "outputs": [
    {
     "data": {
      "text/plain": [
       "179    Funafuti\n",
       "Name: capital_city, dtype: object"
      ]
     },
     "execution_count": 13,
     "metadata": {},
     "output_type": "execute_result"
    }
   ],
   "source": [
    "df[df[\"population\"] == df[\"population\"].min()][\"capital_city\"]"
   ]
  },
  {
   "cell_type": "code",
   "execution_count": null,
   "id": "0deff462-ab11-456a-acc8-14141c27590d",
   "metadata": {},
   "outputs": [],
   "source": []
  },
  {
   "cell_type": "code",
   "execution_count": 14,
   "id": "89341c70-6f9b-45db-bb65-68da5a04e34a",
   "metadata": {},
   "outputs": [
    {
     "data": {
      "text/html": [
       "<div>\n",
       "<style scoped>\n",
       "    .dataframe tbody tr th:only-of-type {\n",
       "        vertical-align: middle;\n",
       "    }\n",
       "\n",
       "    .dataframe tbody tr th {\n",
       "        vertical-align: top;\n",
       "    }\n",
       "\n",
       "    .dataframe thead th {\n",
       "        text-align: right;\n",
       "    }\n",
       "</style>\n",
       "<table border=\"1\" class=\"dataframe\">\n",
       "  <thead>\n",
       "    <tr style=\"text-align: right;\">\n",
       "      <th></th>\n",
       "      <th>country</th>\n",
       "      <th>country_long</th>\n",
       "      <th>currency</th>\n",
       "      <th>capital_city</th>\n",
       "      <th>region</th>\n",
       "      <th>continent</th>\n",
       "      <th>demonym</th>\n",
       "      <th>latitude</th>\n",
       "      <th>longitude</th>\n",
       "      <th>agricultural_land</th>\n",
       "      <th>...</th>\n",
       "      <th>population</th>\n",
       "      <th>women_parliament_seats_pct</th>\n",
       "      <th>rural_population</th>\n",
       "      <th>urban_population</th>\n",
       "      <th>press</th>\n",
       "      <th>democracy_score</th>\n",
       "      <th>democracy_type</th>\n",
       "      <th>median_age</th>\n",
       "      <th>political_leader</th>\n",
       "      <th>title</th>\n",
       "    </tr>\n",
       "  </thead>\n",
       "  <tbody>\n",
       "    <tr>\n",
       "      <th>0</th>\n",
       "      <td>Afghanistan</td>\n",
       "      <td>Islamic State of Afghanistan</td>\n",
       "      <td>Afghan afghani</td>\n",
       "      <td>Kabul</td>\n",
       "      <td>Southern Asia</td>\n",
       "      <td>Asia</td>\n",
       "      <td>Afghan</td>\n",
       "      <td>33.0</td>\n",
       "      <td>65.0</td>\n",
       "      <td>383560.0</td>\n",
       "      <td>...</td>\n",
       "      <td>41128771</td>\n",
       "      <td>27.01610</td>\n",
       "      <td>30181937</td>\n",
       "      <td>10946834</td>\n",
       "      <td>2.14</td>\n",
       "      <td>2.97</td>\n",
       "      <td>Authoritarian</td>\n",
       "      <td>12.9</td>\n",
       "      <td>Ashraf Ghani</td>\n",
       "      <td>President</td>\n",
       "    </tr>\n",
       "    <tr>\n",
       "      <th>1</th>\n",
       "      <td>Albania</td>\n",
       "      <td>Republic of Albania</td>\n",
       "      <td>Albanian lek</td>\n",
       "      <td>Tirana</td>\n",
       "      <td>Southern Europe</td>\n",
       "      <td>Europe</td>\n",
       "      <td>Albanian</td>\n",
       "      <td>41.0</td>\n",
       "      <td>20.0</td>\n",
       "      <td>11655.5</td>\n",
       "      <td>...</td>\n",
       "      <td>2775634</td>\n",
       "      <td>35.71430</td>\n",
       "      <td>1004807</td>\n",
       "      <td>1770827</td>\n",
       "      <td>2.62</td>\n",
       "      <td>5.98</td>\n",
       "      <td>Hybrid regime</td>\n",
       "      <td>33.7</td>\n",
       "      <td>Edi Rama</td>\n",
       "      <td>Prime Minister</td>\n",
       "    </tr>\n",
       "    <tr>\n",
       "      <th>2</th>\n",
       "      <td>Algeria</td>\n",
       "      <td>People's Democratic Republic of Algeria</td>\n",
       "      <td>Algerian dinar</td>\n",
       "      <td>Algiers</td>\n",
       "      <td>Northern Africa</td>\n",
       "      <td>Africa</td>\n",
       "      <td>Algerian</td>\n",
       "      <td>28.0</td>\n",
       "      <td>3.0</td>\n",
       "      <td>413588.0</td>\n",
       "      <td>...</td>\n",
       "      <td>44903225</td>\n",
       "      <td>8.10811</td>\n",
       "      <td>11328186</td>\n",
       "      <td>33575039</td>\n",
       "      <td>1.71</td>\n",
       "      <td>3.50</td>\n",
       "      <td>Authoritarian</td>\n",
       "      <td>24.0</td>\n",
       "      <td>Abdelmadjid Tebboune</td>\n",
       "      <td>President</td>\n",
       "    </tr>\n",
       "    <tr>\n",
       "      <th>3</th>\n",
       "      <td>Andorra</td>\n",
       "      <td>Principality of Andorra</td>\n",
       "      <td>Euro</td>\n",
       "      <td>Andorra la Vella</td>\n",
       "      <td>Southern Europe</td>\n",
       "      <td>Europe</td>\n",
       "      <td>Andorran</td>\n",
       "      <td>42.5</td>\n",
       "      <td>1.5</td>\n",
       "      <td>187.2</td>\n",
       "      <td>...</td>\n",
       "      <td>79824</td>\n",
       "      <td>46.42860</td>\n",
       "      <td>9730</td>\n",
       "      <td>70094</td>\n",
       "      <td>3.17</td>\n",
       "      <td>0.00</td>\n",
       "      <td>Unknown</td>\n",
       "      <td>38.9</td>\n",
       "      <td>Xavier Espot Zamora</td>\n",
       "      <td>Head of Government</td>\n",
       "    </tr>\n",
       "    <tr>\n",
       "      <th>4</th>\n",
       "      <td>Angola</td>\n",
       "      <td>People's Republic of Angola</td>\n",
       "      <td>Angolan kwanza</td>\n",
       "      <td>Luanda</td>\n",
       "      <td>Middle Africa</td>\n",
       "      <td>Africa</td>\n",
       "      <td>Angolan</td>\n",
       "      <td>-12.5</td>\n",
       "      <td>18.5</td>\n",
       "      <td>569525.0</td>\n",
       "      <td>...</td>\n",
       "      <td>35588987</td>\n",
       "      <td>33.63640</td>\n",
       "      <td>11359649</td>\n",
       "      <td>24229338</td>\n",
       "      <td>2.24</td>\n",
       "      <td>3.62</td>\n",
       "      <td>Authoritarian</td>\n",
       "      <td>12.4</td>\n",
       "      <td>João Lourenço</td>\n",
       "      <td>President</td>\n",
       "    </tr>\n",
       "  </tbody>\n",
       "</table>\n",
       "<p>5 rows × 64 columns</p>\n",
       "</div>"
      ],
      "text/plain": [
       "       country                             country_long        currency  \\\n",
       "0  Afghanistan             Islamic State of Afghanistan  Afghan afghani   \n",
       "1      Albania                      Republic of Albania    Albanian lek   \n",
       "2      Algeria  People's Democratic Republic of Algeria  Algerian dinar   \n",
       "3      Andorra                  Principality of Andorra            Euro   \n",
       "4       Angola              People's Republic of Angola  Angolan kwanza   \n",
       "\n",
       "       capital_city           region continent   demonym  latitude  longitude  \\\n",
       "0             Kabul    Southern Asia      Asia    Afghan      33.0       65.0   \n",
       "1            Tirana  Southern Europe    Europe  Albanian      41.0       20.0   \n",
       "2           Algiers  Northern Africa    Africa  Algerian      28.0        3.0   \n",
       "3  Andorra la Vella  Southern Europe    Europe  Andorran      42.5        1.5   \n",
       "4            Luanda    Middle Africa    Africa   Angolan     -12.5       18.5   \n",
       "\n",
       "   agricultural_land  ...  population  women_parliament_seats_pct  \\\n",
       "0           383560.0  ...    41128771                    27.01610   \n",
       "1            11655.5  ...     2775634                    35.71430   \n",
       "2           413588.0  ...    44903225                     8.10811   \n",
       "3              187.2  ...       79824                    46.42860   \n",
       "4           569525.0  ...    35588987                    33.63640   \n",
       "\n",
       "   rural_population  urban_population  press  democracy_score  democracy_type  \\\n",
       "0          30181937          10946834   2.14             2.97   Authoritarian   \n",
       "1           1004807           1770827   2.62             5.98   Hybrid regime   \n",
       "2          11328186          33575039   1.71             3.50   Authoritarian   \n",
       "3              9730             70094   3.17             0.00         Unknown   \n",
       "4          11359649          24229338   2.24             3.62   Authoritarian   \n",
       "\n",
       "   median_age      political_leader               title  \n",
       "0        12.9          Ashraf Ghani           President  \n",
       "1        33.7              Edi Rama      Prime Minister  \n",
       "2        24.0  Abdelmadjid Tebboune           President  \n",
       "3        38.9   Xavier Espot Zamora  Head of Government  \n",
       "4        12.4         João Lourenço           President  \n",
       "\n",
       "[5 rows x 64 columns]"
      ]
     },
     "execution_count": 14,
     "metadata": {},
     "output_type": "execute_result"
    }
   ],
   "source": [
    "df.head()"
   ]
  },
  {
   "cell_type": "code",
   "execution_count": null,
   "id": "b9b04f39-9e50-4e57-8f21-5cdcecc03319",
   "metadata": {},
   "outputs": [],
   "source": []
  },
  {
   "cell_type": "code",
   "execution_count": 15,
   "id": "d9cc32fc-c07c-4849-a1fa-ef087837090f",
   "metadata": {},
   "outputs": [],
   "source": [
    "#give me top 5 countries with highest democratic score"
   ]
  },
  {
   "cell_type": "code",
   "execution_count": 16,
   "id": "ad11997f-eb24-4ca3-8741-8bfb75ff08a9",
   "metadata": {},
   "outputs": [],
   "source": [
    "df.sort_values(by = 'democracy_score',ascending=False,inplace = True)"
   ]
  },
  {
   "cell_type": "code",
   "execution_count": 17,
   "id": "b498dc11-2a1c-403f-bb81-17097fb684f1",
   "metadata": {},
   "outputs": [
    {
     "data": {
      "text/plain": [
       "127         Norway\n",
       "74         Iceland\n",
       "164         Sweden\n",
       "122    New Zealand\n",
       "46         Denmark\n",
       "Name: country, dtype: object"
      ]
     },
     "execution_count": 17,
     "metadata": {},
     "output_type": "execute_result"
    }
   ],
   "source": [
    "df['country'].head()"
   ]
  },
  {
   "cell_type": "code",
   "execution_count": null,
   "id": "04fcd856-715f-4577-86dc-a551ff1dada3",
   "metadata": {},
   "outputs": [],
   "source": []
  },
  {
   "cell_type": "code",
   "execution_count": 18,
   "id": "54dc0d94-7296-435e-9d0b-638f55310c65",
   "metadata": {},
   "outputs": [],
   "source": [
    "#how many total regions are there"
   ]
  },
  {
   "cell_type": "code",
   "execution_count": 19,
   "id": "6f7bb3d2-406e-4bcf-803d-94223d5a4574",
   "metadata": {},
   "outputs": [
    {
     "data": {
      "text/plain": [
       "22"
      ]
     },
     "execution_count": 19,
     "metadata": {},
     "output_type": "execute_result"
    }
   ],
   "source": [
    "df[\"region\"].value_counts().count()"
   ]
  },
  {
   "cell_type": "code",
   "execution_count": null,
   "id": "4ad66828-1f9d-4aa5-bb4e-dbd5af121396",
   "metadata": {},
   "outputs": [],
   "source": []
  },
  {
   "cell_type": "code",
   "execution_count": 20,
   "id": "9fc1a02e-83b4-4841-89bf-c64ae20c9fab",
   "metadata": {},
   "outputs": [
    {
     "data": {
      "text/plain": [
       "43      Czech Republic\n",
       "151    Slovak Republic\n",
       "24            Bulgaria\n",
       "136             Poland\n",
       "73             Hungary\n",
       "139            Romania\n",
       "111            Moldova\n",
       "181            Ukraine\n",
       "14             Belarus\n",
       "140             Russia\n",
       "Name: country, dtype: object"
      ]
     },
     "execution_count": 20,
     "metadata": {},
     "output_type": "execute_result"
    }
   ],
   "source": [
    "#how many countries lie in Eastern Europe region\n",
    "df[df['region'] == \"Eastern Europe\"][ 'country']"
   ]
  },
  {
   "cell_type": "code",
   "execution_count": null,
   "id": "319b2585-b4fb-4c69-9def-328e60115d21",
   "metadata": {},
   "outputs": [],
   "source": []
  },
  {
   "cell_type": "code",
   "execution_count": 21,
   "id": "b74575f1-33d7-427d-b73b-994f6c3d9686",
   "metadata": {},
   "outputs": [
    {
     "data": {
      "text/plain": [
       "34    Xi Jinping\n",
       "Name: political_leader, dtype: object"
      ]
     },
     "execution_count": 21,
     "metadata": {},
     "output_type": "execute_result"
    }
   ],
   "source": [
    "#who is the political leader of the 2nd highest populated country\n",
    "df[df['population'] == df['population'].nlargest(2).iloc[1]]['political_leader']"
   ]
  },
  {
   "cell_type": "code",
   "execution_count": null,
   "id": "3d6f1660-547b-4ad5-8114-7a328db99a1a",
   "metadata": {},
   "outputs": [],
   "source": []
  },
  {
   "cell_type": "code",
   "execution_count": 22,
   "id": "d806fc04-b110-4320-b780-73fba4be77f8",
   "metadata": {},
   "outputs": [
    {
     "data": {
      "text/plain": [
       "7"
      ]
     },
     "execution_count": 22,
     "metadata": {},
     "output_type": "execute_result"
    }
   ],
   "source": [
    "# how many countries are there whoes political leaders are unknown\n",
    "df[df['political_leader'].isna()]['country'].count()"
   ]
  },
  {
   "cell_type": "code",
   "execution_count": null,
   "id": "873fa234-58e8-480e-8514-e2d9744404aa",
   "metadata": {},
   "outputs": [],
   "source": []
  },
  {
   "cell_type": "code",
   "execution_count": null,
   "id": "aac3291f-e369-4d71-8bff-9c33176a68de",
   "metadata": {},
   "outputs": [],
   "source": []
  },
  {
   "cell_type": "code",
   "execution_count": 23,
   "id": "d26960d5-9679-476a-a9a0-a06a200d8693",
   "metadata": {},
   "outputs": [
    {
     "name": "stdout",
     "output_type": "stream",
     "text": [
      "125\n"
     ]
    }
   ],
   "source": [
    "#how many country have Republic in their full name\n",
    "count = 0\n",
    "def counting(txt):\n",
    "    global count \n",
    "    if 'republic' in txt.lower():\n",
    "        count+= 1\n",
    "    return txt\n",
    "df['country_long'] = df['country_long'].apply(counting)\n",
    "print(count)"
   ]
  },
  {
   "cell_type": "code",
   "execution_count": null,
   "id": "905f853f-02fa-44b3-902a-bd8b18594f7c",
   "metadata": {},
   "outputs": [],
   "source": []
  },
  {
   "cell_type": "code",
   "execution_count": null,
   "id": "0c5652a5-2617-4437-9a61-32be411e9e95",
   "metadata": {},
   "outputs": [],
   "source": []
  },
  {
   "cell_type": "code",
   "execution_count": null,
   "id": "a20952e0-3704-4707-b32a-aa4066cf2441",
   "metadata": {},
   "outputs": [],
   "source": []
  },
  {
   "cell_type": "code",
   "execution_count": 24,
   "id": "4d72d1cb-ca87-4e27-9cb6-61e80aa310a7",
   "metadata": {},
   "outputs": [],
   "source": [
    "#which country in african region has highest population\n",
    "africa_df = df[df['continent'] == 'Africa']"
   ]
  },
  {
   "cell_type": "code",
   "execution_count": 25,
   "id": "14cecd4c-7030-4c15-82dc-3f8b72a54bb2",
   "metadata": {},
   "outputs": [
    {
     "data": {
      "text/plain": [
       "125    Nigeria\n",
       "Name: country, dtype: object"
      ]
     },
     "execution_count": 25,
     "metadata": {},
     "output_type": "execute_result"
    }
   ],
   "source": [
    "africa_df[africa_df['population'] == africa_df['population'].max()]['country']"
   ]
  },
  {
   "cell_type": "code",
   "execution_count": null,
   "id": "089196cf-f5e6-42c9-bc82-2aaee1da785d",
   "metadata": {},
   "outputs": [],
   "source": []
  },
  {
   "cell_type": "code",
   "execution_count": null,
   "id": "a0bebd79-2fde-40f7-a6c9-64efce8583b4",
   "metadata": {},
   "outputs": [],
   "source": []
  },
  {
   "cell_type": "code",
   "execution_count": null,
   "id": "5c0907ce-10eb-4c78-b8e9-456a5c6af743",
   "metadata": {},
   "outputs": [],
   "source": []
  },
  {
   "cell_type": "code",
   "execution_count": null,
   "id": "67781616-e0b1-432b-af1a-035e1cdc92e0",
   "metadata": {},
   "outputs": [],
   "source": []
  },
  {
   "cell_type": "code",
   "execution_count": null,
   "id": "e8c51eb8-92cd-4f84-a51c-903ee752ac63",
   "metadata": {},
   "outputs": [],
   "source": []
  },
  {
   "cell_type": "code",
   "execution_count": null,
   "id": "72dfe80d-5986-4732-9cb5-648211d65c35",
   "metadata": {},
   "outputs": [],
   "source": []
  },
  {
   "cell_type": "code",
   "execution_count": null,
   "id": "cc056f15-e31e-4c61-b57b-0fc9b47ed464",
   "metadata": {},
   "outputs": [],
   "source": []
  },
  {
   "cell_type": "code",
   "execution_count": null,
   "id": "d571b718-efaa-491c-8fa0-bff28e7ad7a3",
   "metadata": {},
   "outputs": [],
   "source": []
  },
  {
   "cell_type": "code",
   "execution_count": null,
   "id": "596725e6-106d-41ae-9bea-e22cc2b9a8e8",
   "metadata": {},
   "outputs": [],
   "source": []
  }
 ],
 "metadata": {
  "kernelspec": {
   "display_name": "Python [conda env:base] *",
   "language": "python",
   "name": "conda-base-py"
  },
  "language_info": {
   "codemirror_mode": {
    "name": "ipython",
    "version": 3
   },
   "file_extension": ".py",
   "mimetype": "text/x-python",
   "name": "python",
   "nbconvert_exporter": "python",
   "pygments_lexer": "ipython3",
   "version": "3.12.7"
  }
 },
 "nbformat": 4,
 "nbformat_minor": 5
}
