{
 "cells": [
  {
   "cell_type": "code",
   "execution_count": 1,
   "id": "64e09edf-0914-4f41-8636-f7bbdd8ab4a0",
   "metadata": {},
   "outputs": [],
   "source": [
    "# 🧩 Pandas Series - Definition\n",
    "# A Pandas Series is a one-dimensional labeled array that can hold any data type — integers, floats, strings, Python objects, etc.\n",
    "\n",
    "# Think of it like a single column in an Excel sheet or a 1D NumPy array with labels (index).\n",
    "\n",
    "# ✅ Key Features of Series\n",
    "# It has data (values) and an index (labels).\n",
    "\n",
    "# Can be created from a list, NumPy array, dictionary, etc.\n",
    "\n",
    "# Fast and efficient for operations."
   ]
  },
  {
   "cell_type": "code",
   "execution_count": 4,
   "id": "1361e106-7320-49e6-99b5-7895577731b4",
   "metadata": {},
   "outputs": [],
   "source": [
    "import numpy as np\n",
    "import pandas as pd"
   ]
  },
  {
   "cell_type": "code",
   "execution_count": 5,
   "id": "369d2ad1-12ec-4f40-ace0-df33328d27c7",
   "metadata": {},
   "outputs": [],
   "source": [
    "labels = ['a', 'b', 'c']\n",
    "my_list = [10, 20, 30]\n",
    "arr = np.array([10, 20, 30])\n",
    "d = {1:10, 2:20, 3:30}"
   ]
  },
  {
   "cell_type": "code",
   "execution_count": 6,
   "id": "fa486a66-b412-46f1-bad2-d1b77054bb25",
   "metadata": {},
   "outputs": [
    {
     "data": {
      "text/plain": [
       "0    10\n",
       "1    20\n",
       "2    30\n",
       "dtype: int64"
      ]
     },
     "execution_count": 6,
     "metadata": {},
     "output_type": "execute_result"
    }
   ],
   "source": [
    "pd.Series(my_list)"
   ]
  },
  {
   "cell_type": "code",
   "execution_count": 7,
   "id": "514401b8-afeb-4f3f-b575-7a9f6027c595",
   "metadata": {},
   "outputs": [
    {
     "data": {
      "text/plain": [
       "a    10\n",
       "b    20\n",
       "c    30\n",
       "dtype: int64"
      ]
     },
     "execution_count": 7,
     "metadata": {},
     "output_type": "execute_result"
    }
   ],
   "source": [
    "pd.Series(my_list, index=labels)"
   ]
  },
  {
   "cell_type": "code",
   "execution_count": 11,
   "id": "1ab81a96-afb8-4864-a335-0a34c99dc8a4",
   "metadata": {},
   "outputs": [
    {
     "data": {
      "text/plain": [
       "10    10\n",
       "20    20\n",
       "30    30\n",
       "dtype: int32"
      ]
     },
     "execution_count": 11,
     "metadata": {},
     "output_type": "execute_result"
    }
   ],
   "source": [
    "pd.Series(arr, index=my_list)"
   ]
  },
  {
   "cell_type": "code",
   "execution_count": 12,
   "id": "79d8945d-9d4a-4525-ab3e-ee3a74348572",
   "metadata": {},
   "outputs": [
    {
     "data": {
      "text/plain": [
       "1    10\n",
       "2    20\n",
       "3    30\n",
       "dtype: int64"
      ]
     },
     "execution_count": 12,
     "metadata": {},
     "output_type": "execute_result"
    }
   ],
   "source": [
    "pd.Series(d)"
   ]
  },
  {
   "cell_type": "code",
   "execution_count": null,
   "id": "46fafd21-b686-4321-bb10-4a53e7ca691d",
   "metadata": {},
   "outputs": [],
   "source": []
  },
  {
   "cell_type": "code",
   "execution_count": null,
   "id": "7045c95b-3bfd-41ad-9343-fe11ac72ba19",
   "metadata": {},
   "outputs": [],
   "source": []
  },
  {
   "cell_type": "code",
   "execution_count": null,
   "id": "8f3f92de-7483-4b1e-9d55-3f6031fed9e4",
   "metadata": {},
   "outputs": [],
   "source": []
  },
  {
   "cell_type": "code",
   "execution_count": null,
   "id": "f93cce91-90c4-4f6c-955c-dd8b523a7003",
   "metadata": {},
   "outputs": [],
   "source": []
  },
  {
   "cell_type": "code",
   "execution_count": null,
   "id": "3aebc71f-6dea-4191-93d3-a5970981cd93",
   "metadata": {},
   "outputs": [],
   "source": []
  },
  {
   "cell_type": "code",
   "execution_count": null,
   "id": "313db30e-599b-4462-87e7-a6ae0d849aca",
   "metadata": {},
   "outputs": [],
   "source": []
  },
  {
   "cell_type": "code",
   "execution_count": null,
   "id": "43b1feca-3cf9-4090-93cc-ae6920492623",
   "metadata": {},
   "outputs": [],
   "source": []
  },
  {
   "cell_type": "code",
   "execution_count": null,
   "id": "b493c35e-f113-46c2-8b5c-fc1935b32f4b",
   "metadata": {},
   "outputs": [],
   "source": []
  },
  {
   "cell_type": "code",
   "execution_count": null,
   "id": "f9fc4eac-9a3c-4d99-901c-2542b36a50c6",
   "metadata": {},
   "outputs": [],
   "source": []
  },
  {
   "cell_type": "code",
   "execution_count": null,
   "id": "dbd8e519-8b20-49d6-9b5b-b70bef85db99",
   "metadata": {},
   "outputs": [],
   "source": []
  },
  {
   "cell_type": "code",
   "execution_count": null,
   "id": "ae5cb6cb-eab8-4572-b730-406e941d1ed7",
   "metadata": {},
   "outputs": [],
   "source": []
  }
 ],
 "metadata": {
  "kernelspec": {
   "display_name": "Python [conda env:base] *",
   "language": "python",
   "name": "conda-base-py"
  },
  "language_info": {
   "codemirror_mode": {
    "name": "ipython",
    "version": 3
   },
   "file_extension": ".py",
   "mimetype": "text/x-python",
   "name": "python",
   "nbconvert_exporter": "python",
   "pygments_lexer": "ipython3",
   "version": "3.12.7"
  }
 },
 "nbformat": 4,
 "nbformat_minor": 5
}
